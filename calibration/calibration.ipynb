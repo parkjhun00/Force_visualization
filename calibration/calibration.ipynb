{
 "cells": [
  {
   "cell_type": "code",
   "execution_count": null,
   "id": "c5432699",
   "metadata": {},
   "outputs": [],
   "source": [
    "import pandas as pd\n",
    "import numpy as np\n",
    "data_train = pd.read_csv('./pull1.csv')\n",
    "data_train.head()#展示头部数据"
   ]
  },
  {
   "cell_type": "code",
   "execution_count": null,
   "id": "ba96a8a4",
   "metadata": {},
   "outputs": [],
   "source": [
    "X_train =  data_train.loc[:,'cali2']\n",
    "y_train =  data_train.loc[:,'cali1']"
   ]
  },
  {
   "cell_type": "code",
   "execution_count": null,
   "id": "6f933add",
   "metadata": {},
   "outputs": [],
   "source": [
    "%matplotlib inline\n",
    "from matplotlib import pyplot as plt\n",
    "fig1 = plt.figure(figsize=(5,5))\n",
    "plt.scatter(X_train,y_train,c='darkorange')\n",
    "plt.title('relativity')\n",
    "plt.xlabel('relativeforce')\n",
    "plt.ylabel('standardforce')\n",
    "plt.show()\n",
    "X_train = np.array(X_train).reshape(-1,1)"
   ]
  },
  {
   "cell_type": "code",
   "execution_count": null,
   "id": "d093e673",
   "metadata": {},
   "outputs": [],
   "source": [
    "from sklearn.linear_model import  LinearRegression\n",
    "lr1 = LinearRegression()\n",
    "lr1.fit(X_train,y_train)\n",
    "LinearRegression(copy_X=True, fit_intercept=True, n_jobs=None, normalize=False)"
   ]
  },
  {
   "cell_type": "code",
   "execution_count": null,
   "id": "c15c79f3",
   "metadata": {},
   "outputs": [],
   "source": [
    "data_test = pd.read_csv('./pull1.csv')\n",
    "X_test = data_test.loc[:,'cali2']\n",
    "y_test = data_test.loc[:,'cali1']\n",
    "X_test = np.array(X_test).reshape(-1 ,1)\n",
    "print(X_test.shape)"
   ]
  },
  {
   "cell_type": "code",
   "execution_count": null,
   "id": "888f9ab4",
   "metadata": {},
   "outputs": [],
   "source": [
    "y_train_predict = lr1.predict(X_train)\n",
    "y_test_predict = lr1.predict(X_test)\n",
    "from sklearn.metrics import r2_score  \n",
    "from sklearn.metrics import mean_absolute_error\n",
    "r2_train = r2_score(y_train,y_train_predict)\n",
    "r2_test = r2_score(y_test,y_test_predict)\n",
    "e1 = mean_absolute_error(y_train,y_train_predict)\n",
    "e2 = mean_absolute_error(y_test,y_test_predict)\n",
    "print('training r2:',r2_train)\n",
    "print('test r2:',r2_test)\n",
    "print(e1)\n",
    "print(e2)\n",
    "print(lr1.coef_)\n",
    "print(lr1.intercept_)"
   ]
  },
  {
   "cell_type": "code",
   "execution_count": null,
   "id": "1b025b94",
   "metadata": {},
   "outputs": [],
   "source": [
    "fig2 = plt.figure(figsize=(5,5))\n",
    "plt.plot(X_test,y_test_predict,linewidth = '3', label = \"test\", color='red')\n",
    "plt.scatter(X_train,y_train)\n",
    "plt.scatter(X_test, y_test)\n",
    "\n",
    "plt.title('prediction data')\n",
    "plt.xlabel('standard force')\n",
    "plt.ylabel('Handle force')\n",
    "plt.show()"
   ]
  },
  {
   "cell_type": "code",
   "execution_count": null,
   "id": "1dc9f6f9",
   "metadata": {},
   "outputs": [],
   "source": []
  }
 ],
 "metadata": {
  "kernelspec": {
   "display_name": "Python 3",
   "language": "python",
   "name": "python3"
  },
  "language_info": {
   "codemirror_mode": {
    "name": "ipython",
    "version": 3
   },
   "file_extension": ".py",
   "mimetype": "text/x-python",
   "name": "python",
   "nbconvert_exporter": "python",
   "pygments_lexer": "ipython3",
   "version": "3.8.8"
  }
 },
 "nbformat": 4,
 "nbformat_minor": 5
}
