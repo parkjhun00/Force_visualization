{
 "cells": [
  {
   "cell_type": "code",
   "execution_count": 3,
   "metadata": {},
   "outputs": [],
   "source": [
    "import pandas as pd\n",
    "import numpy as np\n",
    "from scipy import signal\n",
    "\n",
    "# Load the data\n",
    "data = pd.read_csv('./push.csv')\n",
    "\n",
    "# Assume your data's time starts at t=0 and each sample is 1/1200 for 'cali1' and 1/10 for 'cali2'\n",
    "time_cali1 = np.arange(0, len(data['cali1'])/1200, 1/1200)\n",
    "time_cali2 = np.arange(0, len(data['cali2'])/10, 1/10)\n",
    "\n",
    "# Interpolate 'cali1' to 1000Hz\n",
    "f_cali1 = signal.resample_poly(data['cali1'], up=5, down=6)\n",
    "\n",
    "# Interpolate 'cali2' to 1000Hz\n",
    "num_samples_1000hz = int(len(data['cali2']) * 1000/10)  # number of samples at 1000Hz\n",
    "f_cali2 = np.interp(np.linspace(0, time_cali2[-1], num_samples_1000hz), time_cali2, data['cali2'])\n",
    "\n",
    "# Determine the minimum length\n",
    "min_len = min(len(f_cali1), len(f_cali2))\n",
    "\n",
    "# Trim the arrays to the minimum length\n",
    "f_cali1_trimmed = f_cali1[:min_len]\n",
    "f_cali2_trimmed = f_cali2[:min_len]\n",
    "\n",
    "# Create a DataFrame using the trimmed arrays\n",
    "df_resampled = pd.DataFrame({'cali1': f_cali1_trimmed, 'cali2': f_cali2_trimmed})\n",
    "\n",
    "# Export DataFrame to a csv file\n",
    "df_resampled.to_csv('resampled_pull.csv', index=False)"
   ]
  },
  {
   "cell_type": "code",
   "execution_count": 4,
   "metadata": {},
   "outputs": [],
   "source": [
    "import pandas as pd\n",
    "import numpy as np\n",
    "from scipy import signal\n",
    "\n",
    "# Load the data\n",
    "data = pd.read_csv('./push.csv')\n",
    "\n",
    "# Assume your data's time starts at t=0 and each sample is 1/1200 for 'cali1' and 1/10 for 'cali2'\n",
    "time_cali1 = np.arange(0, len(data['cali1'])/1200, 1/1200)\n",
    "time_cali2 = np.arange(0, len(data['cali2'])/10, 1/10)\n",
    "\n",
    "# Interpolate 'cali1' to 1000Hz\n",
    "f_cali1 = signal.resample_poly(data['cali1'], up=5, down=6)\n",
    "\n",
    "# Interpolate 'cali2' to 1000Hz\n",
    "num_samples_1000hz = int(len(data['cali2']) * 1000/10)  # number of samples at 1000Hz\n",
    "f_cali2 = np.interp(np.linspace(0, time_cali2[-1], num_samples_1000hz), time_cali2, data['cali2'])\n",
    "\n",
    "# Determine the minimum length\n",
    "min_len = min(len(f_cali1), len(f_cali2))\n",
    "\n",
    "# Trim the arrays to the minimum length\n",
    "f_cali1_trimmed = f_cali1[:min_len]\n",
    "f_cali2_trimmed = f_cali2[:min_len] \n",
    "\n",
    "# Reverse the sign of 'cali2' data\n",
    "f_cali2_reversed = f_cali2_trimmed * -1\n",
    "\n",
    "# Create a DataFrame using the 'cali1' and reversed 'cali2' data\n",
    "df_resampled = pd.DataFrame({'cali1': f_cali1_trimmed, 'cali2': f_cali2_reversed})\n",
    "\n",
    "# Export DataFrame to a csv file\n",
    "df_resampled.to_csv('resampled_push.csv', index=False)"
   ]
  }
 ],
 "metadata": {
  "kernelspec": {
   "display_name": "Python 3",
   "language": "python",
   "name": "python3"
  },
  "language_info": {
   "codemirror_mode": {
    "name": "ipython",
    "version": 3
   },
   "file_extension": ".py",
   "mimetype": "text/x-python",
   "name": "python",
   "nbconvert_exporter": "python",
   "pygments_lexer": "ipython3",
   "version": "3.11.3"
  },
  "orig_nbformat": 4
 },
 "nbformat": 4,
 "nbformat_minor": 2
}
